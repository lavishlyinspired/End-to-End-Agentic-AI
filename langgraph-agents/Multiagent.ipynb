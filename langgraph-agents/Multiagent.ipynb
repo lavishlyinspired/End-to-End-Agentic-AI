{
  "cells": [
    {
      "cell_type": "code",
      "execution_count": 1,
      "id": "55b1a9a4",
      "metadata": {
        "id": "55b1a9a4",
        "outputId": "040ccff7-90f9-4efe-b489-88deaaf3919a",
        "colab": {
          "base_uri": "https://localhost:8080/",
          "height": 384
        }
      },
      "outputs": [
        {
          "output_type": "error",
          "ename": "ModuleNotFoundError",
          "evalue": "No module named 'langchain_groq'",
          "traceback": [
            "\u001b[0;31m---------------------------------------------------------------------------\u001b[0m",
            "\u001b[0;31mModuleNotFoundError\u001b[0m                       Traceback (most recent call last)",
            "\u001b[0;32m/tmp/ipython-input-1-3370553911.py\u001b[0m in \u001b[0;36m<cell line: 0>\u001b[0;34m()\u001b[0m\n\u001b[1;32m      1\u001b[0m \u001b[0;32mfrom\u001b[0m \u001b[0mtyping_extensions\u001b[0m \u001b[0;32mimport\u001b[0m \u001b[0mLiteral\u001b[0m\u001b[0;34m\u001b[0m\u001b[0;34m\u001b[0m\u001b[0m\n\u001b[1;32m      2\u001b[0m \u001b[0;32mfrom\u001b[0m \u001b[0mlangchain_core\u001b[0m\u001b[0;34m.\u001b[0m\u001b[0mtools\u001b[0m \u001b[0;32mimport\u001b[0m \u001b[0mtool\u001b[0m\u001b[0;34m\u001b[0m\u001b[0;34m\u001b[0m\u001b[0m\n\u001b[0;32m----> 3\u001b[0;31m \u001b[0;32mfrom\u001b[0m \u001b[0mlangchain_groq\u001b[0m \u001b[0;32mimport\u001b[0m \u001b[0mChatGroq\u001b[0m\u001b[0;34m\u001b[0m\u001b[0;34m\u001b[0m\u001b[0m\n\u001b[0m\u001b[1;32m      4\u001b[0m \u001b[0;32mfrom\u001b[0m \u001b[0mlanggraph\u001b[0m\u001b[0;34m.\u001b[0m\u001b[0mgraph\u001b[0m \u001b[0;32mimport\u001b[0m \u001b[0mMessagesState\u001b[0m\u001b[0;34m,\u001b[0m \u001b[0mStateGraph\u001b[0m\u001b[0;34m,\u001b[0m\u001b[0mSTART\u001b[0m\u001b[0;34m,\u001b[0m\u001b[0mEND\u001b[0m\u001b[0;34m\u001b[0m\u001b[0;34m\u001b[0m\u001b[0m\n\u001b[1;32m      5\u001b[0m \u001b[0;32mfrom\u001b[0m \u001b[0mlanggraph\u001b[0m\u001b[0;34m.\u001b[0m\u001b[0mtypes\u001b[0m \u001b[0;32mimport\u001b[0m \u001b[0mCommand\u001b[0m\u001b[0;34m\u001b[0m\u001b[0;34m\u001b[0m\u001b[0m\n",
            "\u001b[0;31mModuleNotFoundError\u001b[0m: No module named 'langchain_groq'",
            "",
            "\u001b[0;31m---------------------------------------------------------------------------\u001b[0;32m\nNOTE: If your import is failing due to a missing package, you can\nmanually install dependencies using either !pip or !apt.\n\nTo view examples of installing some common dependencies, click the\n\"Open Examples\" button below.\n\u001b[0;31m---------------------------------------------------------------------------\u001b[0m\n"
          ],
          "errorDetails": {
            "actions": [
              {
                "action": "open_url",
                "actionText": "Open Examples",
                "url": "/notebooks/snippets/importing_libraries.ipynb"
              }
            ]
          }
        }
      ],
      "source": [
        "from typing_extensions import Literal\n",
        "from langchain_core.tools import tool\n",
        "#from langchain_groq import ChatGroq\n",
        "from langgraph.graph import MessagesState, StateGraph,START,END\n",
        "from langgraph.types import Command\n",
        "from dotenv import load_dotenv\n",
        "from IPython.display import Image, display\n",
        "from langchain_openai import ChatOpenAI\n",
        "from langchain_core.messages import BaseMessage, HumanMessage\n",
        "from langgraph.prebuilt import create_react_agent\n",
        "from typing import Annotated\n",
        "from langchain_experimental.utilities import PythonREPL"
      ]
    },
    {
      "cell_type": "code",
      "execution_count": null,
      "id": "cdf1069e",
      "metadata": {
        "id": "cdf1069e",
        "outputId": "7ca68fdd-9379-46e8-b3ce-33d9ff9d9785"
      },
      "outputs": [
        {
          "data": {
            "text/plain": [
              "True"
            ]
          },
          "execution_count": 4,
          "metadata": {},
          "output_type": "execute_result"
        }
      ],
      "source": [
        "load_dotenv()"
      ]
    },
    {
      "cell_type": "code",
      "execution_count": null,
      "id": "d60cb9d8",
      "metadata": {
        "id": "d60cb9d8"
      },
      "outputs": [],
      "source": [
        "openai_model=ChatOpenAI(model=\"gpt-4\")"
      ]
    },
    {
      "cell_type": "code",
      "execution_count": null,
      "id": "b50a1bdb",
      "metadata": {
        "id": "b50a1bdb",
        "outputId": "81cb1c82-3940-4c1e-8c76-826c86861ce6"
      },
      "outputs": [
        {
          "data": {
            "text/plain": [
              "AIMessage(content='Hello! How can I assist you today?', additional_kwargs={'refusal': None}, response_metadata={'token_usage': {'completion_tokens': 10, 'prompt_tokens': 8, 'total_tokens': 18, 'completion_tokens_details': {'accepted_prediction_tokens': 0, 'audio_tokens': 0, 'reasoning_tokens': 0, 'rejected_prediction_tokens': 0}, 'prompt_tokens_details': {'audio_tokens': 0, 'cached_tokens': 0}}, 'model_name': 'gpt-4-0613', 'system_fingerprint': None, 'finish_reason': 'stop', 'logprobs': None}, id='run-86381537-f7e0-48eb-a2bf-727414fa07b5-0', usage_metadata={'input_tokens': 8, 'output_tokens': 10, 'total_tokens': 18, 'input_token_details': {'audio': 0, 'cache_read': 0}, 'output_token_details': {'audio': 0, 'reasoning': 0}})"
            ]
          },
          "execution_count": 6,
          "metadata": {},
          "output_type": "execute_result"
        }
      ],
      "source": [
        "openai_model.invoke(\"hi\")"
      ]
    },
    {
      "cell_type": "code",
      "execution_count": null,
      "id": "c4564686",
      "metadata": {
        "id": "c4564686"
      },
      "outputs": [],
      "source": [
        "\n",
        "def add_numbers(state):\n",
        "    result=state[\"num1\"]+state[\"num2\"]\n",
        "    print(f\"additional result: {result}\")\n",
        "    return Command(goto=\"multiply\",update={\"sum\":result})"
      ]
    },
    {
      "cell_type": "code",
      "execution_count": null,
      "id": "549d22e5",
      "metadata": {
        "id": "549d22e5"
      },
      "outputs": [],
      "source": [
        "state={\"num1\":1, \"num2\":2}"
      ]
    },
    {
      "cell_type": "code",
      "execution_count": null,
      "id": "75f91859",
      "metadata": {
        "id": "75f91859",
        "outputId": "0eb2ecf2-1e22-485e-f312-7a6beb90a7c5"
      },
      "outputs": [
        {
          "name": "stdout",
          "output_type": "stream",
          "text": [
            "additional result: 3\n"
          ]
        },
        {
          "data": {
            "text/plain": [
              "Command(update={'sum': 3}, goto='multiply')"
            ]
          },
          "execution_count": 33,
          "metadata": {},
          "output_type": "execute_result"
        }
      ],
      "source": [
        "\n",
        "add_numbers(state)"
      ]
    },
    {
      "cell_type": "code",
      "execution_count": null,
      "id": "72ae2dad",
      "metadata": {
        "id": "72ae2dad"
      },
      "outputs": [],
      "source": [
        "@tool\n",
        "def transfer_to_multiplication_expert():\n",
        "    \"\"\"Ask multiplication agent for help\"\"\"\n",
        "    return\n",
        "\n",
        "@tool\n",
        "def transfer_to_addition_expert():\n",
        "    \"\"\"Ask addition agent for help\"\"\"\n",
        "    return"
      ]
    },
    {
      "cell_type": "code",
      "execution_count": null,
      "id": "e9483269",
      "metadata": {
        "id": "e9483269"
      },
      "outputs": [],
      "source": [
        "\n",
        "model_with_tool=openai_model.bind_tools([transfer_to_multiplication_expert])"
      ]
    },
    {
      "cell_type": "code",
      "execution_count": null,
      "id": "34dedba2",
      "metadata": {
        "id": "34dedba2"
      },
      "outputs": [],
      "source": [
        "ai_message=model_with_tool.invoke(\"hi how are you?\")"
      ]
    },
    {
      "cell_type": "code",
      "execution_count": null,
      "id": "a78cb865",
      "metadata": {
        "id": "a78cb865",
        "outputId": "270077f4-d7da-44d7-aff4-41c4d308d060"
      },
      "outputs": [
        {
          "data": {
            "text/plain": [
              "[]"
            ]
          },
          "execution_count": 38,
          "metadata": {},
          "output_type": "execute_result"
        }
      ],
      "source": [
        "ai_message.tool_calls"
      ]
    },
    {
      "cell_type": "code",
      "execution_count": null,
      "id": "6f126e76",
      "metadata": {
        "id": "6f126e76"
      },
      "outputs": [],
      "source": [
        "\n",
        "ai_message=model_with_tool.invoke(\"what's (3 + 5) * 12. Provide me the output\")"
      ]
    },
    {
      "cell_type": "code",
      "execution_count": null,
      "id": "72fdae54",
      "metadata": {
        "id": "72fdae54",
        "outputId": "388d2503-fda9-43a3-9e0b-bac0ce4872b9"
      },
      "outputs": [
        {
          "data": {
            "text/plain": [
              "AIMessage(content='', additional_kwargs={'tool_calls': [{'id': 'call_IfR3dE1sBg51HEClWMJMpTTY', 'function': {'arguments': '{}', 'name': 'transfer_to_multiplication_expert'}, 'type': 'function'}], 'refusal': None}, response_metadata={'token_usage': {'completion_tokens': 12, 'prompt_tokens': 58, 'total_tokens': 70, 'completion_tokens_details': {'accepted_prediction_tokens': 0, 'audio_tokens': 0, 'reasoning_tokens': 0, 'rejected_prediction_tokens': 0}, 'prompt_tokens_details': {'audio_tokens': 0, 'cached_tokens': 0}}, 'model_name': 'gpt-4-0613', 'system_fingerprint': None, 'finish_reason': 'tool_calls', 'logprobs': None}, id='run-27920b97-f6ce-4643-bb65-5707333c3a4e-0', tool_calls=[{'name': 'transfer_to_multiplication_expert', 'args': {}, 'id': 'call_IfR3dE1sBg51HEClWMJMpTTY', 'type': 'tool_call'}], usage_metadata={'input_tokens': 58, 'output_tokens': 12, 'total_tokens': 70, 'input_token_details': {'audio': 0, 'cache_read': 0}, 'output_token_details': {'audio': 0, 'reasoning': 0}})"
            ]
          },
          "execution_count": 40,
          "metadata": {},
          "output_type": "execute_result"
        }
      ],
      "source": [
        "ai_message"
      ]
    },
    {
      "cell_type": "code",
      "execution_count": null,
      "id": "97e420bf",
      "metadata": {
        "id": "97e420bf",
        "outputId": "a2b67e60-8267-4678-b2d9-91bbf53d436d"
      },
      "outputs": [
        {
          "data": {
            "text/plain": [
              "[{'name': 'transfer_to_multiplication_expert',\n",
              "  'args': {},\n",
              "  'id': 'call_IfR3dE1sBg51HEClWMJMpTTY',\n",
              "  'type': 'tool_call'}]"
            ]
          },
          "execution_count": 41,
          "metadata": {},
          "output_type": "execute_result"
        }
      ],
      "source": [
        "ai_message.tool_calls"
      ]
    },
    {
      "cell_type": "code",
      "execution_count": null,
      "id": "d0c34824",
      "metadata": {
        "id": "d0c34824"
      },
      "outputs": [],
      "source": [
        "def additional_expert(state:MessagesState)-> Command[Literal[\"multiplication_expert\", \"__end__\"]]:\n",
        "\n",
        "    system_prompt = (\n",
        "        \"You are an addition expert, you can ask the multiplication expert for help with multiplication.\"\n",
        "        \"Always do your portion of calculation before the handoff.\"\n",
        "    )\n",
        "\n",
        "    messages = [{\"role\": \"system\", \"content\": system_prompt}] + state[\"messages\"]\n",
        "\n",
        "\n",
        "    ai_msg = openai_model.bind_tools([transfer_to_multiplication_expert]).invoke(messages)\n",
        "\n",
        "\n",
        "    if len(ai_msg.tool_calls) > 0:\n",
        "        tool_call_id = ai_msg.tool_calls[-1][\"id\"]\n",
        "        tool_msg = {\n",
        "            \"role\": \"tool\",\n",
        "            \"content\": \"Successfully transferred\",\n",
        "            \"tool_call_id\": tool_call_id,\n",
        "        }\n",
        "\n",
        "        return Command(\n",
        "            goto=\"multiplication_expert\", update={\"messages\": [ai_msg, tool_msg]}\n",
        "        )\n",
        "    return {\"messages\": [ai_msg]}"
      ]
    },
    {
      "cell_type": "code",
      "execution_count": null,
      "id": "00aa29cc",
      "metadata": {
        "id": "00aa29cc"
      },
      "outputs": [],
      "source": [
        "def multiplication_expert(state:MessagesState)-> Command[Literal[\"additional_expert\", \"__end__\"]]:\n",
        "\n",
        "    system_prompt = (\n",
        "        \"You are a multiplication expert, you can ask an addition expert for help with addition. \"\n",
        "        \"Always do your portion of calculation before the handoff.\"\n",
        "    )\n",
        "\n",
        "    messages = [{\"role\": \"system\", \"content\": system_prompt}] + state[\"messages\"]\n",
        "\n",
        "    ai_msg = openai_model.bind_tools([transfer_to_addition_expert]).invoke(messages)\n",
        "\n",
        "    if len(ai_msg.tool_calls) > 0:\n",
        "        tool_call_id = ai_msg.tool_calls[-1][\"id\"]\n",
        "        tool_msg = {\n",
        "            \"role\": \"tool\",\n",
        "            \"content\": \"Successfully transferred\",\n",
        "            \"tool_call_id\": tool_call_id,\n",
        "        }\n",
        "        return Command(goto=\"additional_expert\", update={\"messages\": [ai_msg, tool_msg]})\n",
        "    return {\"messages\": [ai_msg]}"
      ]
    },
    {
      "cell_type": "code",
      "execution_count": null,
      "id": "e1147963",
      "metadata": {
        "id": "e1147963"
      },
      "outputs": [],
      "source": [
        "graph=StateGraph(MessagesState)"
      ]
    },
    {
      "cell_type": "code",
      "execution_count": null,
      "id": "3acd23e6",
      "metadata": {
        "id": "3acd23e6",
        "outputId": "5a7c3226-9104-4dad-916c-8f281a7e67de"
      },
      "outputs": [
        {
          "data": {
            "text/plain": [
              "<langgraph.graph.state.StateGraph at 0x18f14756dd0>"
            ]
          },
          "execution_count": 45,
          "metadata": {},
          "output_type": "execute_result"
        }
      ],
      "source": [
        "graph.add_node(\"additional_expert\",additional_expert)\n",
        "graph.add_node(\"multiplication_expert\",multiplication_expert)\n"
      ]
    },
    {
      "cell_type": "code",
      "execution_count": null,
      "id": "a41792d6",
      "metadata": {
        "id": "a41792d6",
        "outputId": "70294c86-403d-4e10-9c41-dc10243a6da2"
      },
      "outputs": [
        {
          "data": {
            "text/plain": [
              "<langgraph.graph.state.StateGraph at 0x18f14756dd0>"
            ]
          },
          "execution_count": 47,
          "metadata": {},
          "output_type": "execute_result"
        }
      ],
      "source": [
        "graph.add_edge(START, \"additional_expert\")"
      ]
    },
    {
      "cell_type": "code",
      "execution_count": null,
      "id": "e7d83d54",
      "metadata": {
        "id": "e7d83d54"
      },
      "outputs": [],
      "source": [
        "app=graph.compile()"
      ]
    },
    {
      "cell_type": "code",
      "execution_count": null,
      "id": "a93fae17",
      "metadata": {
        "id": "a93fae17",
        "outputId": "59c06a37-064b-48e9-d166-8b11eaf082da"
      },
      "outputs": [
        {
          "data": {
            "image/png": "[encoded data removed]",
            "text/plain": [
              "<IPython.core.display.Image object>"
            ]
          },
          "metadata": {},
          "output_type": "display_data"
        }
      ],
      "source": [
        "\n",
        "app=graph.compile()\n",
        "display(Image(app.get_graph().draw_mermaid_png()))"
      ]
    },
    {
      "cell_type": "code",
      "execution_count": null,
      "id": "61383fe4",
      "metadata": {
        "id": "61383fe4",
        "outputId": "ab810737-eac1-413b-c4c3-1484e5318b19"
      },
      "outputs": [
        {
          "data": {
            "text/plain": [
              "{'messages': [HumanMessage(content=\"what's (3 + 5) * 12. Provide me the output\", additional_kwargs={}, response_metadata={}, id='58cb0431-8a3f-43f2-be76-aa5561dd6f5b'),\n",
              "  AIMessage(content=\"The addition part of the calculation gives us the result 8. Now we need to multiply 8 by 12.\\n\\nLet's hand off this multiplication part to the multiplication expert.\", additional_kwargs={'tool_calls': [{'id': 'call_uvsRgZzq80uPq5tGxQgv2A45', 'function': {'arguments': '{\\n  \"numbers\": [8, 12]\\n}', 'name': 'transfer_to_multiplication_expert'}, 'type': 'function'}], 'refusal': None}, response_metadata={'token_usage': {'completion_tokens': 61, 'prompt_tokens': 86, 'total_tokens': 147, 'completion_tokens_details': {'accepted_prediction_tokens': 0, 'audio_tokens': 0, 'reasoning_tokens': 0, 'rejected_prediction_tokens': 0}, 'prompt_tokens_details': {'audio_tokens': 0, 'cached_tokens': 0}}, 'model_name': 'gpt-4-0613', 'system_fingerprint': None, 'finish_reason': 'tool_calls', 'logprobs': None}, id='run-da8483d3-e0a4-4433-8c31-5184961eb4c7-0', tool_calls=[{'name': 'transfer_to_multiplication_expert', 'args': {'numbers': [8, 12]}, 'id': 'call_uvsRgZzq80uPq5tGxQgv2A45', 'type': 'tool_call'}], usage_metadata={'input_tokens': 86, 'output_tokens': 61, 'total_tokens': 147, 'input_token_details': {'audio': 0, 'cache_read': 0}, 'output_token_details': {'audio': 0, 'reasoning': 0}}),\n",
              "  ToolMessage(content='Successfully transferred', id='3dd09720-6507-485e-af4f-a0debccd195b', tool_call_id='call_uvsRgZzq80uPq5tGxQgv2A45'),\n",
              "  AIMessage(content='The result of (3 + 5) * 12 is 96.', additional_kwargs={'refusal': None}, response_metadata={'token_usage': {'completion_tokens': 18, 'prompt_tokens': 159, 'total_tokens': 177, 'completion_tokens_details': {'accepted_prediction_tokens': 0, 'audio_tokens': 0, 'reasoning_tokens': 0, 'rejected_prediction_tokens': 0}, 'prompt_tokens_details': {'audio_tokens': 0, 'cached_tokens': 0}}, 'model_name': 'gpt-4-0613', 'system_fingerprint': None, 'finish_reason': 'stop', 'logprobs': None}, id='run-a1c165ca-98da-4e8e-9e9f-ab358c9b30ca-0', usage_metadata={'input_tokens': 159, 'output_tokens': 18, 'total_tokens': 177, 'input_token_details': {'audio': 0, 'cache_read': 0}, 'output_token_details': {'audio': 0, 'reasoning': 0}})]}"
            ]
          },
          "execution_count": 50,
          "metadata": {},
          "output_type": "execute_result"
        }
      ],
      "source": [
        "app.invoke({\"messages\":[(\"user\",\"what's (3 + 5) * 12. Provide me the output\")]})"
      ]
    },
    {
      "cell_type": "code",
      "execution_count": null,
      "id": "5a004e5c",
      "metadata": {
        "id": "5a004e5c"
      },
      "outputs": [],
      "source": [
        "from typing import Annotated\n",
        "from typing import Literal\n",
        "from langchain_community.tools.tavily_search import TavilySearchResults\n",
        "from langchain_core.tools import tool\n",
        "from langchain_experimental.utilities import PythonREPL\n",
        "from typing_extensions import TypedDict\n",
        "from langgraph.graph import MessagesState, END,StateGraph, START\n",
        "from langgraph.types import Command\n",
        "from langchain_core.messages import HumanMessage\n",
        "from langgraph.prebuilt import create_react_agent"
      ]
    },
    {
      "cell_type": "code",
      "execution_count": null,
      "id": "49341bca",
      "metadata": {
        "id": "49341bca"
      },
      "outputs": [],
      "source": [
        "from dotenv import load_dotenv"
      ]
    },
    {
      "cell_type": "code",
      "execution_count": null,
      "id": "e30ebd74",
      "metadata": {
        "id": "e30ebd74",
        "outputId": "d15143e7-d592-4dde-bfbb-0563b425a78c"
      },
      "outputs": [
        {
          "data": {
            "text/plain": [
              "True"
            ]
          },
          "execution_count": 53,
          "metadata": {},
          "output_type": "execute_result"
        }
      ],
      "source": [
        "load_dotenv()"
      ]
    },
    {
      "cell_type": "code",
      "execution_count": null,
      "id": "04b255fe",
      "metadata": {
        "id": "04b255fe"
      },
      "outputs": [],
      "source": [
        "TAVILY_API_KEY=\"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\"\n",
        "\n",
        "\n",
        "import os\n",
        "os.environ[\"TAVILY_API_KEY\"]=TAVILY_API_KEY"
      ]
    },
    {
      "cell_type": "code",
      "execution_count": null,
      "id": "18771717",
      "metadata": {
        "id": "18771717"
      },
      "outputs": [],
      "source": [
        "tavaily_tool=TavilySearchResults()"
      ]
    },
    {
      "cell_type": "code",
      "execution_count": null,
      "id": "2f886735",
      "metadata": {
        "id": "2f886735",
        "outputId": "0a23fefa-9382-4f8d-c6a1-5f183361eb03"
      },
      "outputs": [
        {
          "data": {
            "text/plain": [
              "[{'title': 'Gross domestic product - Wikipedia',\n",
              "  'url': 'https://en.wikipedia.org/wiki/Gross_domestic_product',\n",
              "  'content': 'Gross domestic product (GDP) is a monetary measure of the total market value[1] of all the final goods and services produced and rendered in a specific time period by a country[2] or countries.[3][4][5] GDP is often used to measure the economic performance of a country or region.[2] Several national and international economic organizations maintain definitions of GDP, such as the OECD and the International Monetary Fund.[6][7] [...] Appearance\\nmove to sidebar hide\\nFrom Wikipedia, the free encyclopedia\\nMarket value of goods and services produced within a country\\n\"GDP\" redirects here. For other uses, see GDP (disambiguation). [...] U.S. GDP computed on the expenditure basis\\nGDP (Y) is the sum of consumption (C), investment (I), government expenditures (G) and net exports (X − M).\\nY = C + I + G + (X − M)\\nHere is a description of each GDP component:',\n",
              "  'score': 0.9073207},\n",
              " {'title': 'Gross Domestic Product (GDP) Formula and How to Use It',\n",
              "  'url': 'https://www.investopedia.com/terms/g/gdp.asp',\n",
              "  'content': 'What Is Gross Domestic Product (GDP)?\\nGross domestic product (GDP) is the total monetary or market value of all the finished goods and services produced within a country’s borders in a specific time period. As a broad measure of overall domestic production, it functions as a comprehensive scorecard of a given country’s economic health. [...] Gross domestic product is the monetary value of all finished goods and services made within a country during a specific period.\\nGDP provides an economic snapshot of a country, used to estimate the size of an economy and its growth rate.\\nGDP can be calculated in three ways, using expenditures, production, or incomes, and it can be adjusted for inflation and population to provide deeper insights.\\nReal GDP takes into account the effects of inflation, while nominal GDP does not. [...] Gross domestic product is a measurement that seeks to capture a country’s economic output. Countries with larger GDPs will have a greater amount of goods and services generated within them, and will generally have a higher standard of living. For this reason, many citizens and political leaders see GDP growth as an important measure of national success, often referring to GDP growth and economic growth interchangeably. Due to various limitations, however, many economists have argued that GDP',\n",
              "  'score': 0.90039873},\n",
              " {'title': 'Nominal gross domestic product (GDP) - OECD',\n",
              "  'url': 'https://www.oecd.org/en/data/indicators/nominal-gross-domestic-product-gdp.html',\n",
              "  'content': 'Nominal gross domestic product (GDP)\\nGross domestic product (GDP) is the standard measure of the value added created through the production of goods and services in a country during a certain period.\\nIndicator\\nAvailable in: English\\n\\nEnglish\\nfrançais [...] Select a language\\nClose\\nEnglish\\nfrançais\\nApply\\nCancel\\nShare\\nFacebook Twitter LinkedIn\\nDefinition\\nGross domestic product (GDP) is the standard measure of the value added created through the production of goods and services in a country during a certain period. [...] Dataset\\nGDP and Non-financial Accounts\\nGross Domestic Product (GDP) measures countries’ economic growth and is the most well-known indicator from the national accounts. The non-financial accounts provide detailed information for each economy, including measures of production, income, consumption, saving and borrowing.\\n\\n\\nDataset\\nComposite Leading Indicators (CLI)\\nThe OECD Composite Leading Indicators (CLIs) are designed to anticipate turning points and economic fluctuations relative to trend.',\n",
              "  'score': 0.8752871},\n",
              " {'title': '[PDF] What is GDP? - Bureau of Economic Analysis',\n",
              "  'url': 'https://www.bea.gov/system/files/2020-04/GDP-Education-by-BEA.pdf',\n",
              "  'content': 'Gross Total market valueDomestic Within the United States Product Goods and services GDP is the way we measure the U.S. economy and its growth.\\nGDP = the total market value of the goods and services produced within the United States in a year.\\nA good is a video game, a car, an apple, a gold ring. Goods are things that people make, grow or extract from the land.\\nA service is a haircut, a bus ride, computer repair, a doctor’s care. Services are actions that people do for someone else. [...] = GDP The total market value of the goods and services produced within the United States in a year.\\nWhat is not in GDP?\\nSome productive activities are left out. For example, GDP doesn’t count the value of services parents provide for their own children, work volunteers do for charities, or illegal activities. Who calculates GDP? • Economists at the U.S. Bureau of Economic Analysis estimate GDP using thousands of data points gathered by other federal agencies and some private data collectors.',\n",
              "  'score': 0.829285},\n",
              " {'title': 'What is GDP (Gross Domestic Product) - Worldometer',\n",
              "  'url': 'https://www.worldometers.info/gdp/what-is-gdp/',\n",
              "  'content': 'GDP stands for “Gross Domestic Product” and represents the total monetary value of all final goods and services produced (and sold on the market) within a',\n",
              "  'score': 0.81347597}]"
            ]
          },
          "execution_count": 58,
          "metadata": {},
          "output_type": "execute_result"
        }
      ],
      "source": [
        "tavaily_tool.invoke(\"what is a gdp?\")"
      ]
    },
    {
      "cell_type": "code",
      "execution_count": null,
      "id": "65cb6923",
      "metadata": {
        "id": "65cb6923"
      },
      "outputs": [],
      "source": [
        "@tool\n",
        "def python_repl_tool(\n",
        "    code: Annotated[str, \"The python code to execute to generate your chart.\"],\n",
        "):\n",
        "    \"\"\"Use this to execute python code and do math. If you want to see the output of a value,\n",
        "    you should print it out with `print(...)`. This is visible to the user.\"\"\"\n",
        "\n",
        "    try:\n",
        "        result = repl.run(code)\n",
        "    except BaseException as e:\n",
        "        return f\"Failed to execute. Error: {repr(e)}\"\n",
        "\n",
        "    result_str = f\"Successfully executed:\\n\\`\\`\\`python\\n{code}\\n\\`\\`\\`\\nStdout: {result}\"\n",
        "    return result_str"
      ]
    },
    {
      "cell_type": "code",
      "execution_count": null,
      "id": "27a2595a",
      "metadata": {
        "id": "27a2595a"
      },
      "outputs": [],
      "source": [
        "code = \"\"\"\n",
        "x = 5\n",
        "y = x * 2\n",
        "print(y)\n",
        "\"\"\""
      ]
    },
    {
      "cell_type": "code",
      "execution_count": null,
      "id": "14226e35",
      "metadata": {
        "id": "14226e35"
      },
      "outputs": [],
      "source": [
        "repl=PythonREPL()"
      ]
    },
    {
      "cell_type": "code",
      "execution_count": null,
      "id": "0e33a289",
      "metadata": {
        "id": "0e33a289",
        "outputId": "e08b3183-0a6e-4ce8-fc9c-b36590dea4db"
      },
      "outputs": [
        {
          "name": "stderr",
          "output_type": "stream",
          "text": [
            "Python REPL can execute arbitrary code. Use with caution.\n"
          ]
        },
        {
          "data": {
            "text/plain": [
              "'10\\n'"
            ]
          },
          "execution_count": 64,
          "metadata": {},
          "output_type": "execute_result"
        }
      ],
      "source": [
        "repl.run(code)"
      ]
    },
    {
      "cell_type": "code",
      "execution_count": null,
      "id": "c514ecaa",
      "metadata": {
        "id": "c514ecaa"
      },
      "outputs": [],
      "source": [
        "members=[\"researcher\",\"coder\"]"
      ]
    },
    {
      "cell_type": "code",
      "execution_count": null,
      "id": "fb63d7d6",
      "metadata": {
        "id": "fb63d7d6"
      },
      "outputs": [],
      "source": [
        "options=members+[\"FINISH\"]"
      ]
    },
    {
      "cell_type": "code",
      "execution_count": null,
      "id": "c8d457fc",
      "metadata": {
        "id": "c8d457fc",
        "outputId": "06cf3166-8b34-408c-aba2-501c02c89581"
      },
      "outputs": [
        {
          "data": {
            "text/plain": [
              "['researcher', 'coder', 'FINISH']"
            ]
          },
          "execution_count": 68,
          "metadata": {},
          "output_type": "execute_result"
        }
      ],
      "source": [
        "options"
      ]
    },
    {
      "cell_type": "code",
      "execution_count": null,
      "id": "f45001a9",
      "metadata": {
        "id": "f45001a9"
      },
      "outputs": [],
      "source": [
        "class Router(TypedDict):\n",
        "    \"\"\"Worker to route to next. If no workers needed, route to FINISH.\"\"\"\n",
        "    next: Literal['researcher', 'coder', 'FINISH']"
      ]
    },
    {
      "cell_type": "code",
      "execution_count": null,
      "id": "8abcae0f",
      "metadata": {
        "id": "8abcae0f"
      },
      "outputs": [],
      "source": [
        "class State(MessagesState):\n",
        "    next:str"
      ]
    },
    {
      "cell_type": "code",
      "execution_count": null,
      "id": "4315e5e1",
      "metadata": {
        "id": "4315e5e1"
      },
      "outputs": [],
      "source": [
        "system_prompt=f\"\"\"\n",
        "You are a supervisor, tasked with managing a conversation between the following workers: {members}.\n",
        "Given the following user request, respond with the worker to act next.\n",
        "Each worker will perform a task and respond with their results and status.\n",
        "When finished, respond with FINISH.\n",
        "\"\"\""
      ]
    },
    {
      "cell_type": "code",
      "execution_count": null,
      "id": "30f9e656",
      "metadata": {
        "id": "30f9e656",
        "outputId": "fe06004e-03bb-4318-a010-eec292126e7b"
      },
      "outputs": [
        {
          "data": {
            "text/plain": [
              "[{'role': 'system',\n",
              "  'content': \"\\nYou are a supervisor, tasked with managing a conversation between the following workers: ['researcher', 'coder']. \\nGiven the following user request, respond with the worker to act next. \\nEach worker will perform a task and respond with their results and status. \\nWhen finished, respond with FINISH.\\n\"}]"
            ]
          },
          "execution_count": 72,
          "metadata": {},
          "output_type": "execute_result"
        }
      ],
      "source": [
        "[{\"role\": \"system\", \"content\": system_prompt},]"
      ]
    },
    {
      "cell_type": "code",
      "execution_count": null,
      "id": "04b10d87",
      "metadata": {
        "id": "04b10d87"
      },
      "outputs": [],
      "source": [
        "def supervisor_node(state: State) -> Command[Literal[\"researcher\", \"coder\", \"__end__\"]]:\n",
        "\n",
        "    messages = [{\"role\": \"system\", \"content\": system_prompt},] + state[\"messages\"]\n",
        "\n",
        "    response = openai_model.with_structured_output(Router).invoke(messages)\n",
        "\n",
        "    goto = response[\"next\"]\n",
        "\n",
        "    print(\"below my goto**********************************\")\n",
        "\n",
        "    print(goto)\n",
        "\n",
        "    if goto == \"FINISH\":\n",
        "        goto = END\n",
        "\n",
        "    return Command(goto=goto, update={\"next\": goto})"
      ]
    },
    {
      "cell_type": "code",
      "execution_count": null,
      "id": "997fe56a",
      "metadata": {
        "id": "997fe56a"
      },
      "outputs": [],
      "source": [
        "def research_node(state: State) -> Command[Literal[\"supervisor\"]]:\n",
        "\n",
        "    research_agent = create_react_agent(openai_model, tools=[tavaily_tool], prompt=\"You are a researcher. DO NOT do any math.\")\n",
        "\n",
        "    result = research_agent.invoke(state)\n",
        "\n",
        "    return Command(\n",
        "        update={\n",
        "            \"messages\": [\n",
        "                HumanMessage(content=result[\"messages\"][-1].content, name=\"researcher\")\n",
        "            ]\n",
        "        },\n",
        "        goto=\"supervisor\",\n",
        "    )"
      ]
    },
    {
      "cell_type": "code",
      "execution_count": null,
      "id": "93ce7b46",
      "metadata": {
        "id": "93ce7b46"
      },
      "outputs": [],
      "source": [
        "def code_node(state: State) -> Command[Literal[\"supervisor\"]]:\n",
        "\n",
        "    code_agent = create_react_agent(openai_model, tools=[python_repl_tool])\n",
        "\n",
        "    result = code_agent.invoke(state)\n",
        "\n",
        "    return Command(\n",
        "        update={\n",
        "            \"messages\": [\n",
        "                HumanMessage(content=result[\"messages\"][-1].content, name=\"coder\")\n",
        "            ]\n",
        "        },\n",
        "        goto=\"supervisor\",\n",
        "    )"
      ]
    },
    {
      "cell_type": "code",
      "execution_count": null,
      "id": "bc75a09c",
      "metadata": {
        "id": "bc75a09c"
      },
      "outputs": [],
      "source": [
        "graph=StateGraph(State)"
      ]
    },
    {
      "cell_type": "code",
      "execution_count": null,
      "id": "0df6717f",
      "metadata": {
        "id": "0df6717f"
      },
      "outputs": [],
      "source": [
        "graph.add_node(\"supervisor\",supervisor_node)\n",
        "graph.add_node(\"researcher\", research_node)\n",
        "graph.add_node(\"coder\", code_node)\n",
        "\n",
        "graph.add_edge(START,\"supervisor\")\n",
        "app=graph.compile()"
      ]
    },
    {
      "cell_type": "code",
      "execution_count": null,
      "id": "42dc4911",
      "metadata": {
        "id": "42dc4911",
        "outputId": "91911473-c427-4555-96fd-7b84e27aa0b8"
      },
      "outputs": [
        {
          "data": {
            "image/png": "[encoded data removed]",
            "text/plain": [
              "<IPython.core.display.Image object>"
            ]
          },
          "metadata": {},
          "output_type": "display_data"
        }
      ],
      "source": [
        "from IPython.display import display, Image\n",
        "\n",
        "display(Image(app.get_graph().draw_mermaid_png()))"
      ]
    },
    {
      "cell_type": "code",
      "execution_count": null,
      "id": "5aa4f881",
      "metadata": {
        "id": "5aa4f881",
        "outputId": "e2623c1e-9fcd-40f5-ccba-bc9002bfdeb1"
      },
      "outputs": [
        {
          "name": "stderr",
          "output_type": "stream",
          "text": [
            "c:\\Complete_Content\\GENERATIVEAI\\NEW_E2E_COURSE\\genai_bootcamp\\env\\lib\\site-packages\\langchain_openai\\chat_models\\base.py:1413: UserWarning: Cannot use method='json_schema' with model gpt-4 since it doesn't support OpenAI's Structured Output API. You can see supported models here: https://platform.openai.com/docs/guides/structured-outputs#supported-models. To fix this warning, set `method='function_calling'. Overriding to method='function_calling'.\n",
            "  warnings.warn(\n"
          ]
        },
        {
          "name": "stdout",
          "output_type": "stream",
          "text": [
            "below my goto**********************************\n",
            "coder\n",
            "((), {'supervisor': {'next': 'coder'}})\n",
            "----\n",
            "(('coder:929a27fb-660c-b656-a51d-25522ab43a9c',), {'agent': {'messages': [AIMessage(content='', additional_kwargs={'tool_calls': [{'id': 'call_8FiaRQOsZ2UddTEYZzj1th8L', 'function': {'arguments': '{\\n  \"code\": \"import math\\\\nprint(math.sqrt(42))\"\\n}', 'name': 'python_repl_tool'}, 'type': 'function'}], 'refusal': None}, response_metadata={'token_usage': {'completion_tokens': 25, 'prompt_tokens': 100, 'total_tokens': 125, 'completion_tokens_details': {'accepted_prediction_tokens': 0, 'audio_tokens': 0, 'reasoning_tokens': 0, 'rejected_prediction_tokens': 0}, 'prompt_tokens_details': {'audio_tokens': 0, 'cached_tokens': 0}}, 'model_name': 'gpt-4-0613', 'system_fingerprint': None, 'finish_reason': 'tool_calls', 'logprobs': None}, id='run-bfc005b0-c3a3-4b04-925f-62ee64098dc1-0', tool_calls=[{'name': 'python_repl_tool', 'args': {'code': 'import math\\nprint(math.sqrt(42))'}, 'id': 'call_8FiaRQOsZ2UddTEYZzj1th8L', 'type': 'tool_call'}], usage_metadata={'input_tokens': 100, 'output_tokens': 25, 'total_tokens': 125, 'input_token_details': {'audio': 0, 'cache_read': 0}, 'output_token_details': {'audio': 0, 'reasoning': 0}})]}})\n",
            "----\n",
            "(('coder:929a27fb-660c-b656-a51d-25522ab43a9c',), {'tools': {'messages': [ToolMessage(content='Successfully executed:\\n\\\\`\\\\`\\\\`python\\nimport math\\nprint(math.sqrt(42))\\n\\\\`\\\\`\\\\`\\nStdout: 6.48074069840786\\n', name='python_repl_tool', id='4084e489-8190-4750-8eaf-7429bc8de2c3', tool_call_id='call_8FiaRQOsZ2UddTEYZzj1th8L')]}})\n",
            "----\n",
            "(('coder:929a27fb-660c-b656-a51d-25522ab43a9c',), {'agent': {'messages': [AIMessage(content='The square root of 42 is approximately 6.48.', additional_kwargs={'refusal': None}, response_metadata={'token_usage': {'completion_tokens': 15, 'prompt_tokens': 166, 'total_tokens': 181, 'completion_tokens_details': {'accepted_prediction_tokens': 0, 'audio_tokens': 0, 'reasoning_tokens': 0, 'rejected_prediction_tokens': 0}, 'prompt_tokens_details': {'audio_tokens': 0, 'cached_tokens': 0}}, 'model_name': 'gpt-4-0613', 'system_fingerprint': None, 'finish_reason': 'stop', 'logprobs': None}, id='run-018f95ff-dac0-44ca-b4b1-bf07155d06b6-0', usage_metadata={'input_tokens': 166, 'output_tokens': 15, 'total_tokens': 181, 'input_token_details': {'audio': 0, 'cache_read': 0}, 'output_token_details': {'audio': 0, 'reasoning': 0}})]}})\n",
            "----\n",
            "((), {'coder': {'messages': [HumanMessage(content='The square root of 42 is approximately 6.48.', additional_kwargs={}, response_metadata={}, name='coder')]}})\n",
            "----\n"
          ]
        },
        {
          "name": "stderr",
          "output_type": "stream",
          "text": [
            "c:\\Complete_Content\\GENERATIVEAI\\NEW_E2E_COURSE\\genai_bootcamp\\env\\lib\\site-packages\\langchain_openai\\chat_models\\base.py:1413: UserWarning: Cannot use method='json_schema' with model gpt-4 since it doesn't support OpenAI's Structured Output API. You can see supported models here: https://platform.openai.com/docs/guides/structured-outputs#supported-models. To fix this warning, set `method='function_calling'. Overriding to method='function_calling'.\n",
            "  warnings.warn(\n"
          ]
        },
        {
          "name": "stdout",
          "output_type": "stream",
          "text": [
            "below my goto**********************************\n",
            "FINISH\n",
            "((), {'supervisor': {'next': '__end__'}})\n",
            "----\n"
          ]
        }
      ],
      "source": [
        "for s in app.stream({\"messages\": [(\"user\", \"What's the square root of 42?\")]}, subgraphs=True):\n",
        "    print(s)\n",
        "    print(\"----\")"
      ]
    },
    {
      "cell_type": "code",
      "execution_count": null,
      "id": "2eb76b2d",
      "metadata": {
        "id": "2eb76b2d"
      },
      "outputs": [],
      "source": []
    }
  ],
  "metadata": {
    "kernelspec": {
      "display_name": "Python 3",
      "language": "python",
      "name": "python3"
    },
    "language_info": {
      "codemirror_mode": {
        "name": "ipython",
        "version": 3
      },
      "file_extension": ".py",
      "mimetype": "text/x-python",
      "name": "python",
      "nbconvert_exporter": "python",
      "pygments_lexer": "ipython3",
      "version": "3.10.16"
    },
    "colab": {
      "provenance": []
    }
  },
  "nbformat": 4,
  "nbformat_minor": 5
}